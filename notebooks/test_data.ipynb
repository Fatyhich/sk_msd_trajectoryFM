{
 "cells": [
  {
   "cell_type": "code",
   "execution_count": 59,
   "id": "6b501433",
   "metadata": {},
   "outputs": [],
   "source": [
    "import os\n",
    "from torch.utils.data import DataLoader\n",
    "from trajdata import AgentBatch, UnifiedDataset\n",
    "import torch\n",
    "from trajdata.visualization.vis import plot_agent_batch\n",
    "from tqdm import tqdm\n",
    "from torch import Tensor"
   ]
  },
  {
   "cell_type": "code",
   "execution_count": 50,
   "id": "ae734911",
   "metadata": {},
   "outputs": [],
   "source": [
    "dataset = UnifiedDataset(\n",
    "    desired_data=[\"eupeds_eth\",\"eupeds_hotel\",\"eupeds_univ\",\"eupeds_zara1\",\"eupeds_zara2\" ],\n",
    "    data_dirs={  # Remember to change this to match your filesystem!\n",
    "        \"eupeds_eth\": \"../data/eth\",\n",
    "        \"eupeds_hotel\": \"../data/eth\",\n",
    "        \"eupeds_univ\": \"../data/eth\",\n",
    "        \"eupeds_zara1\": \"../data/eth\",\n",
    "        \"eupeds_zara2\": \"../data/eth\",\n",
    "    },\n",
    "    desired_dt = 0.1,\n",
    "    state_format = 'x,y',\n",
    "    obs_format= 'x,y',\n",
    "    centric = \"agent\",\n",
    "    history_sec = (0.8,0.8),\n",
    "    future_sec = (0.8,0.8),\n",
    "    standardize_data =False,\n",
    "    num_workers=os.cpu_count()\n",
    ")"
   ]
  },
  {
   "cell_type": "code",
   "execution_count": 51,
   "id": "de534180",
   "metadata": {},
   "outputs": [],
   "source": [
    "dataloader = DataLoader(\n",
    "    dataset,\n",
    "    batch_size=4,\n",
    "    shuffle=True,\n",
    "    collate_fn=dataset.get_collate_fn(),\n",
    "    num_workers=os.cpu_count(), # This can be set to 0 for single-threaded loading, if desired.\n",
    ")"
   ]
  },
  {
   "cell_type": "code",
   "execution_count": 61,
   "id": "206f82c6",
   "metadata": {},
   "outputs": [],
   "source": [
    "data_iter = iter(dataloader)\n",
    "batch = next(data_iter) "
   ]
  },
  {
   "cell_type": "code",
   "execution_count": 63,
   "id": "c6f0deee",
   "metadata": {},
   "outputs": [
    {
     "data": {
      "text/plain": [
       "torch.Size([4, 74, 9, 2])"
      ]
     },
     "execution_count": 63,
     "metadata": {},
     "output_type": "execute_result"
    }
   ],
   "source": [
    "batch.neigh_hist.shape"
   ]
  },
  {
   "cell_type": "code",
   "execution_count": 55,
   "id": "e1616234",
   "metadata": {},
   "outputs": [
    {
     "data": {
      "text/plain": [
       "torch.Size([4, 8, 2])"
      ]
     },
     "execution_count": 55,
     "metadata": {},
     "output_type": "execute_result"
    }
   ],
   "source": [
    "batch.agent_fut.shape"
   ]
  },
  {
   "cell_type": "code",
   "execution_count": 57,
   "id": "acf33d27",
   "metadata": {},
   "outputs": [
    {
     "data": {
      "text/plain": [
       "tensor([ 5,  9, 60, 21])"
      ]
     },
     "execution_count": 57,
     "metadata": {},
     "output_type": "execute_result"
    }
   ],
   "source": [
    "batch.num_neigh"
   ]
  },
  {
   "cell_type": "code",
   "execution_count": 64,
   "id": "29a6480a",
   "metadata": {},
   "outputs": [
    {
     "data": {
      "text/plain": [
       "['64', '102', '35', '18']"
      ]
     },
     "execution_count": 64,
     "metadata": {},
     "output_type": "execute_result"
    }
   ],
   "source": [
    "batch.agent_name"
   ]
  },
  {
   "cell_type": "code",
   "execution_count": 69,
   "id": "73cdaa31",
   "metadata": {},
   "outputs": [],
   "source": [
    "batch.robot_fut"
   ]
  }
 ],
 "metadata": {
  "kernelspec": {
   "display_name": "trajFM",
   "language": "python",
   "name": "python3"
  },
  "language_info": {
   "codemirror_mode": {
    "name": "ipython",
    "version": 3
   },
   "file_extension": ".py",
   "mimetype": "text/x-python",
   "name": "python",
   "nbconvert_exporter": "python",
   "pygments_lexer": "ipython3",
   "version": "3.10.12"
  }
 },
 "nbformat": 4,
 "nbformat_minor": 5
}
