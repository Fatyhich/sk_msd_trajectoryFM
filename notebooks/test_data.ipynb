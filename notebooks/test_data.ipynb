{
 "cells": [
  {
   "cell_type": "code",
   "execution_count": 1,
   "id": "6b501433",
   "metadata": {},
   "outputs": [],
   "source": [
    "import os\n",
    "from torch.utils.data import DataLoader\n",
    "from trajdata import AgentBatch, UnifiedDataset"
   ]
  },
  {
   "cell_type": "code",
   "execution_count": 2,
   "id": "ae734911",
   "metadata": {},
   "outputs": [],
   "source": [
    "dataset = UnifiedDataset(\n",
    "    desired_data=[\"eupeds_eth\",\"eupeds_hotel\",\"eupeds_univ\",\"eupeds_zara1\",\"eupeds_zara2\" ],\n",
    "    data_dirs={  # Remember to change this to match your filesystem!\n",
    "        \"eupeds_eth\": \"../data/eth\",\n",
    "        \"eupeds_hotel\": \"../data/eth\",\n",
    "        \"eupeds_univ\": \"../data/eth\",\n",
    "        \"eupeds_zara1\": \"../data/eth\",\n",
    "        \"eupeds_zara2\": \"../data/eth\",\n",
    "    },\n",
    ")"
   ]
  },
  {
   "cell_type": "code",
   "execution_count": 3,
   "id": "de534180",
   "metadata": {},
   "outputs": [],
   "source": [
    "dataloader = DataLoader(\n",
    "    dataset,\n",
    "    batch_size=64,\n",
    "    shuffle=True,\n",
    "    collate_fn=dataset.get_collate_fn(),\n",
    "    num_workers=os.cpu_count(), # This can be set to 0 for single-threaded loading, if desired.\n",
    ")"
   ]
  },
  {
   "cell_type": "code",
   "execution_count": 4,
   "id": "206f82c6",
   "metadata": {},
   "outputs": [],
   "source": [
    "data_iter = iter(dataloader)\n",
    "batch = next(data_iter) "
   ]
  }
 ],
 "metadata": {
  "kernelspec": {
   "display_name": "trajFM",
   "language": "python",
   "name": "python3"
  },
  "language_info": {
   "codemirror_mode": {
    "name": "ipython",
    "version": 3
   },
   "file_extension": ".py",
   "mimetype": "text/x-python",
   "name": "python",
   "nbconvert_exporter": "python",
   "pygments_lexer": "ipython3",
   "version": "3.10.12"
  }
 },
 "nbformat": 4,
 "nbformat_minor": 5
}
