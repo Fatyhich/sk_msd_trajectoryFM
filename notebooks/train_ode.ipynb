{
 "cells": [
  {
   "cell_type": "code",
   "execution_count": 1,
   "id": "2e104247",
   "metadata": {},
   "outputs": [
    {
     "name": "stderr",
     "output_type": "stream",
     "text": [
      "/home/g.devchich/sk_msd_trajectoryFM/.venv/lib/python3.10/site-packages/lightning_utilities/core/imports.py:10: UserWarning: pkg_resources is deprecated as an API. See https://setuptools.pypa.io/en/latest/pkg_resources.html. The pkg_resources package is slated for removal as early as 2025-11-30. Refrain from using this package or pin to Setuptools<81.\n",
      "  import pkg_resources\n",
      "Global seed set to 42\n"
     ]
    },
    {
     "data": {
      "text/plain": [
       "42"
      ]
     },
     "execution_count": 1,
     "metadata": {},
     "output_type": "execute_result"
    }
   ],
   "source": [
    "import sys, os\n",
    "import torch\n",
    "from torch import Tensor\n",
    "from torch.utils.data import DataLoader, random_split\n",
    "from trajdata import AgentBatch, UnifiedDataset\n",
    "\n",
    "sys.path.append(os.path.abspath(\"../\"))\n",
    "from src.data.batch_proccessing import make_model_collate\n",
    "from src.models.ode_baseline import ODEBaseline\n",
    "from torch import nn\n",
    "from tqdm import tqdm\n",
    "import pytorch_lightning as pl\n",
    "pl.seed_everything(42)"
   ]
  },
  {
   "cell_type": "code",
   "execution_count": 2,
   "id": "a5bf7170",
   "metadata": {},
   "outputs": [],
   "source": [
    "dataset = UnifiedDataset(\n",
    "        desired_data=[\"eupeds_eth\",\"eupeds_hotel\",\"eupeds_univ\",\"eupeds_zara1\",\"eupeds_zara2\"],\n",
    "        data_dirs={\n",
    "            \"eupeds_eth\":  \"../data/eth\",\n",
    "            \"eupeds_hotel\":\"../data/eth\",\n",
    "            \"eupeds_univ\": \"../data/eth\",\n",
    "            \"eupeds_zara1\":\"../data/eth\",\n",
    "            \"eupeds_zara2\":\"../data/eth\",\n",
    "        },\n",
    "        desired_dt=0.1,\n",
    "        state_format='x,y',\n",
    "        obs_format='x,y',\n",
    "        centric=\"scene\",\n",
    "        history_sec=(0.8,0.8),\n",
    "        future_sec=(0.8,0.8),\n",
    "        standardize_data=False,\n",
    "    )\n",
    "collate_fn = make_model_collate(dataset=dataset, memory=4, dim=2)"
   ]
  },
  {
   "cell_type": "code",
   "execution_count": 3,
   "id": "2e603088",
   "metadata": {},
   "outputs": [],
   "source": [
    "N = len(dataset)\n",
    "n_test = int(0.1 * N)\n",
    "n_train = N - n_test\n",
    "train_ds, test_ds = random_split(dataset, [n_train, n_test],\n",
    "                                     generator=torch.Generator().manual_seed(42))\n",
    "\n",
    "train_loader = DataLoader(train_ds, batch_size=256, shuffle=True,\n",
    "                              num_workers=os.cpu_count(), collate_fn=collate_fn, pin_memory=True)\n",
    "test_loader  = DataLoader(test_ds,  batch_size=256, shuffle=False,\n",
    "                              num_workers=os.cpu_count(), collate_fn=collate_fn, pin_memory=True)"
   ]
  },
  {
   "cell_type": "code",
   "execution_count": 4,
   "id": "3798068d",
   "metadata": {},
   "outputs": [],
   "source": [
    "device = torch.device('cuda' if torch.cuda.is_available() else 'cpu')"
   ]
  },
  {
   "cell_type": "code",
   "execution_count": 5,
   "id": "80ee28c6",
   "metadata": {},
   "outputs": [],
   "source": [
    "model = ODEBaseline(dim=2, w=64).to(device)\n",
    "optimizer = torch.optim.Adam(model.parameters(), lr=1e-4)\n",
    "criterion = nn.MSELoss()"
   ]
  },
  {
   "cell_type": "code",
   "execution_count": null,
   "id": "126a9ca2",
   "metadata": {},
   "outputs": [
    {
     "name": "stderr",
     "output_type": "stream",
     "text": [
      "  0%|          | 0/5 [00:00<?, ?it/s]"
     ]
    },
    {
     "name": "stdout",
     "output_type": "stream",
     "text": [
      "Epoch 001: train_loss = 0.077097\n"
     ]
    },
    {
     "name": "stderr",
     "output_type": "stream",
     "text": [
      " 20%|██        | 1/5 [03:53<15:32, 233.22s/it]"
     ]
    },
    {
     "name": "stdout",
     "output_type": "stream",
     "text": [
      "          test_loss = 0.076630\n",
      "Epoch 002: train_loss = 0.076009\n"
     ]
    },
    {
     "name": "stderr",
     "output_type": "stream",
     "text": [
      " 40%|████      | 2/5 [07:46<11:40, 233.54s/it]"
     ]
    },
    {
     "name": "stdout",
     "output_type": "stream",
     "text": [
      "          test_loss = 0.076421\n",
      "Epoch 003: train_loss = 0.075840\n"
     ]
    },
    {
     "name": "stderr",
     "output_type": "stream",
     "text": [
      " 60%|██████    | 3/5 [11:41<07:47, 233.81s/it]"
     ]
    },
    {
     "name": "stdout",
     "output_type": "stream",
     "text": [
      "          test_loss = 0.076265\n",
      "Epoch 004: train_loss = 0.075691\n"
     ]
    },
    {
     "name": "stderr",
     "output_type": "stream",
     "text": [
      " 80%|████████  | 4/5 [15:36<03:54, 234.24s/it]"
     ]
    },
    {
     "name": "stdout",
     "output_type": "stream",
     "text": [
      "          test_loss = 0.076115\n",
      "Epoch 005: train_loss = 0.075525\n"
     ]
    },
    {
     "name": "stderr",
     "output_type": "stream",
     "text": [
      "100%|██████████| 5/5 [19:30<00:00, 234.05s/it]"
     ]
    },
    {
     "name": "stdout",
     "output_type": "stream",
     "text": [
      "          test_loss = 0.076010\n",
      "Training finished.\n"
     ]
    },
    {
     "name": "stderr",
     "output_type": "stream",
     "text": [
      "\n"
     ]
    }
   ],
   "source": [
    "EPOCHS = 5\n",
    "for epoch in tqdm(range(1, EPOCHS + 1)):\n",
    "    model.train()\n",
    "    total_loss = 0.0\n",
    "    for batch in train_loader:\n",
    "        if batch is None:\n",
    "            continue\n",
    "        x0, x0_class, x1_full, x1_next, t0, t1 = batch\n",
    "        x0, x1_next, t1 = x0.to(device), x1_next.to(device), t1.to(device)\n",
    "        t1_scalar = t1.view(-1)[0]\n",
    "\n",
    "        optimizer.zero_grad()\n",
    "        x_pred = model(x0, t1_scalar)\n",
    "        loss = criterion(x_pred, x1_next.squeeze())\n",
    "        loss.backward()\n",
    "        optimizer.step()\n",
    "        total_loss += loss.item() * x0.size(0)\n",
    "\n",
    "    mean_loss = total_loss / len(train_loader.dataset)\n",
    "    print(f\"Epoch {epoch:03d}: train_loss = {mean_loss:.6f}\")\n",
    "\n",
    "    # ---- simple test each epoch ----\n",
    "    model.eval()\n",
    "    test_loss = 0.0\n",
    "    with torch.no_grad():\n",
    "        for batch in test_loader:\n",
    "            if batch is None:\n",
    "                continue\n",
    "            x0, x0_hist, x1, t0, t1 = batch\n",
    "            x0, x1, t1 = x0.to(device), x1.to(device), t1.to(device)\n",
    "            t1_scalar = t1.view(-1)[0]\n",
    "            x_pred = model(x0, t1_scalar)\n",
    "            loss = criterion(x_pred, x1.squeeze())\n",
    "            test_loss += loss.item() * x0.size(0)\n",
    "\n",
    "    test_loss /= len(test_loader.dataset)\n",
    "    print(f\"          test_loss = {test_loss:.6f}\")\n",
    "\n",
    "print(\"Training finished.\")\n",
    "torch.save(model.state_dict(), \"ode_baseline.pth\")"
   ]
  }
 ],
 "metadata": {
  "kernelspec": {
   "display_name": "trajFM",
   "language": "python",
   "name": "python3"
  },
  "language_info": {
   "codemirror_mode": {
    "name": "ipython",
    "version": 3
   },
   "file_extension": ".py",
   "mimetype": "text/x-python",
   "name": "python",
   "nbconvert_exporter": "python",
   "pygments_lexer": "ipython3",
   "version": "3.10.12"
  }
 },
 "nbformat": 4,
 "nbformat_minor": 5
}
